{
  "nbformat": 4,
  "nbformat_minor": 0,
  "metadata": {
    "colab": {
      "provenance": []
    },
    "kernelspec": {
      "name": "python3",
      "display_name": "Python 3"
    },
    "language_info": {
      "name": "python"
    }
  },
  "cells": [
    {
      "cell_type": "code",
      "source": [
        "from google.colab import drive\n",
        "drive.mount('/content/drive')"
      ],
      "metadata": {
        "colab": {
          "base_uri": "https://localhost:8080/"
        },
        "id": "nOsMTYLC-kzp",
        "outputId": "a53e9ef9-30af-47ae-964b-b8919be46dc3"
      },
      "execution_count": null,
      "outputs": [
        {
          "output_type": "stream",
          "name": "stdout",
          "text": [
            "Mounted at /content/drive\n"
          ]
        }
      ]
    },
    {
      "cell_type": "code",
      "source": [
        "import os\n",
        "import shutil\n",
        "import random\n",
        "from pathlib import Path\n",
        "\n",
        "# === CONFIG ===\n",
        "dataset_dir = r'/content/drive/MyDrive'  # Root directory where 'images/' and 'labels/' folders from label studio are\n",
        "image_exts = ['.jpg', '.jpeg', '.png']  # Supported image formats\n",
        "train_ratio = 0.7\n",
        "val_ratio = 0.2\n",
        "test_ratio = 0.1\n",
        "\n",
        "\n",
        "# === Prepare Split Directories ===\n",
        "def make_dirs():\n",
        "    for split in ['train', 'val', 'test']:\n",
        "        os.makedirs(os.path.join(dataset_dir, split, 'images'), exist_ok=True)\n",
        "        os.makedirs(os.path.join(dataset_dir, split, 'labels'), exist_ok=True)\n",
        "\n",
        "\n",
        "# === Get List of Image Files ===\n",
        "def list_image_files(image_folder):\n",
        "    return [f for f in os.listdir(image_folder) if Path(f).suffix.lower() in image_exts]\n",
        "\n",
        "\n",
        "# === Split Dataset ===\n",
        "def split_files(files):\n",
        "    random.shuffle(files)\n",
        "    total = len(files)\n",
        "    train_end = int(total * train_ratio)\n",
        "    val_end = train_end + int(total * val_ratio)\n",
        "    return {\n",
        "        'train': files[:train_end],\n",
        "        'val': files[train_end:val_end],\n",
        "        'test': files[val_end:]\n",
        "    }\n",
        "\n",
        "\n",
        "# === Copy Images and Corresponding Labels ===\n",
        "def copy_files(split_files_dict, image_dir, label_dir):\n",
        "    for split, files in split_files_dict.items():\n",
        "        for file in files:\n",
        "            stem = Path(file).stem\n",
        "            img_src = os.path.join(image_dir, file)\n",
        "            lbl_src = os.path.join(label_dir, stem + '.txt')\n",
        "\n",
        "            img_dst = os.path.join(dataset_dir, split, 'images', file)\n",
        "            lbl_dst = os.path.join(dataset_dir, split, 'labels', stem + '.txt')\n",
        "\n",
        "            shutil.copy2(img_src, img_dst)\n",
        "            if os.path.exists(lbl_src):\n",
        "                shutil.copy2(lbl_src, lbl_dst)\n",
        "            else:\n",
        "                print(f\"Warning: Label for {file} not found.\")\n",
        "\n",
        "\n",
        "# === Main Function ===\n",
        "def main():\n",
        "    image_folder = os.path.join(dataset_dir, 'images')\n",
        "    label_folder = os.path.join(dataset_dir, 'labels')\n",
        "\n",
        "    make_dirs()\n",
        "    all_images = list_image_files(image_folder)\n",
        "    splits = split_files(all_images)\n",
        "    copy_files(splits, image_folder, label_folder)\n",
        "    print(\"Dataset successfully split into train/val/test folders.\")\n",
        "\n",
        "\n",
        "if __name__ == '__main__':\n",
        "    main()\n"
      ],
      "metadata": {
        "colab": {
          "base_uri": "https://localhost:8080/"
        },
        "id": "cXmIB9-z-ln3",
        "outputId": "d7b8ac58-722e-4d1b-f22e-e83746f82033"
      },
      "execution_count": null,
      "outputs": [
        {
          "output_type": "stream",
          "name": "stdout",
          "text": [
            "Dataset successfully split into train/val/test folders.\n"
          ]
        }
      ]
    },
    {
      "cell_type": "code",
      "source": [],
      "metadata": {
        "id": "mRf5OnGf_Ivk"
      },
      "execution_count": null,
      "outputs": []
    }
  ]
}